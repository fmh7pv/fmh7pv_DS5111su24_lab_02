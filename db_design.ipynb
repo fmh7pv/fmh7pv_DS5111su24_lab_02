{
 "cells": [
  {
   "cell_type": "code",
   "execution_count": 1,
   "id": "ce8299c4",
   "metadata": {},
   "outputs": [],
   "source": [
    "import sqlite3\n",
    "import pandas as pd\n",
    "\n",
    "# Connect to SQLite database (or create it if it doesn't exist)\n",
    "conn = sqlite3.connect('courses.db')\n",
    "cursor = conn.cursor()\n",
    "\n",
    "# Function to load CSV data into SQLite tables\n",
    "def load_csv_to_sqlite(csv_file, table_name, conn):\n",
    "    df = pd.read_csv(csv_file)\n",
    "    df.to_sql(table_name, conn, if_exists='replace', index=False)\n",
    "\n",
    "# Load CSV files into SQLite\n",
    "load_csv_to_sqlite('Courses.csv', 'Courses', conn)\n",
    "load_csv_to_sqlite('Learning_Outcomes.csv', 'Learning_Outcomes', conn)\n",
    "load_csv_to_sqlite('Instructors.csv', 'Instructor', conn)\n",
    "load_csv_to_sqlite('Course_Assignment.csv', 'Course_Assignment', conn)"
   ]
  },
  {
   "cell_type": "code",
   "execution_count": 2,
   "id": "8c3619ed",
   "metadata": {},
   "outputs": [
    {
     "name": "stdout",
     "output_type": "stream",
     "text": [
      "Active Courses:\n",
      "            mnemonic                               course_name\n",
      "0    ds_biz_anaytics    Business Analytics for Data Scientists\n",
      "1   ds_tech_bootcamp                        Technical Bootcamp\n",
      "2             ds5001                Exploratory Text Analytics\n",
      "3             ds5012           Foundations of Computer Science\n",
      "4             ds5100              Programming for Data Science\n",
      "5             ds5110                          Big Data Systems\n",
      "6             ds6001  Practice and Application of Data Science\n",
      "7             ds6002                           Big Data Ethics\n",
      "8             ds6011      Data Science Capstone Project Work I\n",
      "9             ds6013     Data Science Capstone Project Work II\n",
      "10            ds6030                      Statistical Learning\n",
      "11            ds6040                 Bayesian Machine Learning\n",
      "12            ds6050                             Deep Learning\n",
      "13          sarc5400                        Data Visualization\n",
      "14          stat6021            Linear Models for Data Science \n",
      "\n"
     ]
    }
   ],
   "source": [
    "# Define and execute the query\n",
    "myquery = '''\n",
    "SELECT mnemonic, course_name\n",
    "FROM Courses\n",
    "WHERE active = 1\n",
    "'''\n",
    "\n",
    "# Fetch and print results\n",
    "active_courses = pd.read_sql_query(myquery, conn)\n",
    "print(\"Active Courses:\")\n",
    "print(active_courses, \"\\n\")"
   ]
  },
  {
   "cell_type": "code",
   "execution_count": 3,
   "id": "5978fdb4",
   "metadata": {},
   "outputs": [
    {
     "name": "stdout",
     "output_type": "stream",
     "text": [
      "Inactive Courses:\n",
      "  mnemonic                                      course_name\n",
      "0   ds6003  Practice and Application of Data Science Part 2\n",
      "1   ds6012                           Big Data Ethics Part 2 \n",
      "\n"
     ]
    }
   ],
   "source": [
    "# Define and execute the query\n",
    "myquery = '''\n",
    "SELECT mnemonic, course_name\n",
    "FROM Courses\n",
    "WHERE active = 0\n",
    "'''\n",
    "\n",
    "# Fetch and print results\n",
    "inactive_courses = pd.read_sql_query(myquery, conn)\n",
    "print(\"Inactive Courses:\")\n",
    "print(inactive_courses, \"\\n\")\n"
   ]
  },
  {
   "cell_type": "code",
   "execution_count": 4,
   "id": "6abceda2",
   "metadata": {},
   "outputs": [
    {
     "name": "stdout",
     "output_type": "stream",
     "text": [
      "Inactive Instructors:\n",
      "              instructor_name\n",
      "0               Jeremy Bolton\n",
      "1  Luis Felipe Rosado Murillo \n",
      "\n"
     ]
    }
   ],
   "source": [
    "# Define and execute the query\n",
    "myquery = '''\n",
    "SELECT instructor_name\n",
    "FROM Instructor\n",
    "WHERE active = 0\n",
    "'''\n",
    "\n",
    "# Fetch and print results\n",
    "inactive_instructors = pd.read_sql_query(myquery, conn)\n",
    "print(\"Inactive Instructors:\")\n",
    "print(inactive_instructors, \"\\n\")"
   ]
  },
  {
   "cell_type": "code",
   "execution_count": 5,
   "id": "c2bfb91f",
   "metadata": {},
   "outputs": [
    {
     "name": "stdout",
     "output_type": "stream",
     "text": [
      "Learning Outcomes Count:\n",
      "            mnemonic                                      course_name  \\\n",
      "0             ds5001                       Exploratory Text Analytics   \n",
      "1             ds5012                  Foundations of Computer Science   \n",
      "2             ds5100                     Programming for Data Science   \n",
      "3             ds5110                                 Big Data Systems   \n",
      "4             ds6001         Practice and Application of Data Science   \n",
      "5             ds6002                                  Big Data Ethics   \n",
      "6             ds6003  Practice and Application of Data Science Part 2   \n",
      "7             ds6011             Data Science Capstone Project Work I   \n",
      "8             ds6012                           Big Data Ethics Part 2   \n",
      "9             ds6013            Data Science Capstone Project Work II   \n",
      "10            ds6030                             Statistical Learning   \n",
      "11            ds6040                        Bayesian Machine Learning   \n",
      "12            ds6050                                    Deep Learning   \n",
      "13   ds_biz_anaytics           Business Analytics for Data Scientists   \n",
      "14  ds_tech_bootcamp                               Technical Bootcamp   \n",
      "15          sarc5400                               Data Visualization   \n",
      "16          stat6021                   Linear Models for Data Science   \n",
      "\n",
      "    number_of_learning_outcomes  \n",
      "0                             8  \n",
      "1                             9  \n",
      "2                            34  \n",
      "3                            37  \n",
      "4                            10  \n",
      "5                             2  \n",
      "6                             3  \n",
      "7                             4  \n",
      "8                             2  \n",
      "9                             4  \n",
      "10                           19  \n",
      "11                           37  \n",
      "12                           24  \n",
      "13                            9  \n",
      "14                           15  \n",
      "15                            0  \n",
      "16                           13   \n",
      "\n"
     ]
    }
   ],
   "source": [
    "myquery = '''\n",
    "SELECT c.mnemonic, c.course_name, COUNT(l.outcome_id) AS number_of_learning_outcomes\n",
    "FROM Courses c\n",
    "LEFT JOIN Learning_Outcomes l ON c.course_id = l.course_id\n",
    "GROUP BY c.mnemonic, c.course_name\n",
    "'''\n",
    "\n",
    "# Fetch and print results\n",
    "learning_outcomes_count = pd.read_sql_query(myquery, conn)\n",
    "print(\"Learning Outcomes Count:\")\n",
    "print(learning_outcomes_count, \"\\n\")"
   ]
  },
  {
   "cell_type": "code",
   "execution_count": 6,
   "id": "ebb12f7e",
   "metadata": {},
   "outputs": [
    {
     "name": "stdout",
     "output_type": "stream",
     "text": [
      "Courses with No Learning Outcomes:\n",
      "   mnemonic         course_name\n",
      "0  sarc5400  Data Visualization \n",
      "\n"
     ]
    }
   ],
   "source": [
    "# Define and execute the query\n",
    "myquery = '''\n",
    "SELECT c.mnemonic, c.course_name\n",
    "FROM Courses c\n",
    "LEFT JOIN Learning_Outcomes l ON c.course_id = l.course_id\n",
    "WHERE l.outcome_id IS NULL\n",
    "'''\n",
    "\n",
    "# Fetch and print results\n",
    "courses_with_no_outcomes = pd.read_sql_query(myquery, conn)\n",
    "print(\"Courses with No Learning Outcomes:\")\n",
    "print(courses_with_no_outcomes, \"\\n\")"
   ]
  },
  {
   "cell_type": "code",
   "execution_count": 7,
   "id": "2d6e6433",
   "metadata": {},
   "outputs": [
    {
     "name": "stdout",
     "output_type": "stream",
     "text": [
      "Courses with SQL Learning Outcomes:\n",
      "  mnemonic                               course_name  \\\n",
      "0   ds5110                          Big Data Systems   \n",
      "1   ds6001  Practice and Application of Data Science   \n",
      "2   ds6001  Practice and Application of Data Science   \n",
      "3   ds6001  Practice and Application of Data Science   \n",
      "\n",
      "                                    learning_outcome  \n",
      "0             Apply Spark SQL to data analysis tasks  \n",
      "1  Understand the purpose, typology, and language...  \n",
      "2  Understand how to implement databases Python: ...  \n",
      "3        Understand how to query databases with SQL    \n",
      "\n"
     ]
    }
   ],
   "source": [
    "# Define and execute the query\n",
    "myquery = '''\n",
    "SELECT c.mnemonic, c.course_name, l.learning_outcome\n",
    "FROM Courses c\n",
    "JOIN Learning_Outcomes l ON c.course_id = l.course_id\n",
    "WHERE l.learning_outcome LIKE '%SQL%'\n",
    "'''\n",
    "\n",
    "# Fetch and print results\n",
    "courses_with_SQL = pd.read_sql_query(myquery, conn)\n",
    "print(\"Courses with SQL Learning Outcomes:\")\n",
    "print(courses_with_SQL, \"\\n\")"
   ]
  },
  {
   "cell_type": "code",
   "execution_count": 8,
   "id": "937e428f",
   "metadata": {},
   "outputs": [
    {
     "name": "stdout",
     "output_type": "stream",
     "text": [
      "Course Assignments for 'ds5100' in Summer 2021:\n",
      "   course_id        term instructor_name\n",
      "0        104  summer2021      Nada Basit \n",
      "\n"
     ]
    }
   ],
   "source": [
    "myquery = '''\n",
    "SELECT ca.course_id, ca.term, i.instructor_name\n",
    "FROM Course_Assignment ca\n",
    "JOIN Instructor i ON ca.instructor_id = i.instructor_id\n",
    "WHERE ca.course_id = 104\n",
    "  AND ca.term = 'summer2021'\n",
    "'''\n",
    "# Fetch and print results\n",
    "assignments_info = pd.read_sql_query(myquery, conn)\n",
    "print(\"Course Assignments for 'ds5100' in Summer 2021:\")\n",
    "print(assignments_info, \"\\n\")"
   ]
  },
  {
   "cell_type": "code",
   "execution_count": 12,
   "id": "b0df24f9",
   "metadata": {},
   "outputs": [
    {
     "name": "stdout",
     "output_type": "stream",
     "text": [
      "Instructors who taught in Fall 2021:\n",
      "     instructor_name\n",
      "0   Abbas Kazemipour\n",
      "1       Adam Tashman\n",
      "2       Bill Basener\n",
      "3     Cait Dreisbach\n",
      "4       Eric Tassone\n",
      "5        Jeffrey Woo\n",
      "6      Jeremy Bolton\n",
      "7           Judy Fox\n",
      "8            Lei Xie\n",
      "9      Marc Ruggiano\n",
      "10       Pete Alonzi\n",
      "11      Peter Gedeck\n",
      "12      Raf Alvarado\n",
      "13    Renee Cummings\n",
      "14  Sree Mallikarjun\n",
      "15      Stephen Baek\n",
      "16      Teague Henry \n",
      "\n"
     ]
    }
   ],
   "source": [
    "myquery = '''\n",
    "SELECT DISTINCT i.instructor_name\n",
    "FROM Course_Assignment ca\n",
    "JOIN Instructor i ON ca.instructor_id = i.instructor_id\n",
    "WHERE ca.term = 'fall2021'\n",
    "ORDER BY i.instructor_name\n",
    "'''\n",
    "\n",
    "# Fetch and print results\n",
    "instructors_fall_2021 = pd.read_sql_query(myquery, conn)\n",
    "print(\"Instructors who taught in Fall 2021:\")\n",
    "print(instructors_fall_2021, \"\\n\")\n"
   ]
  },
  {
   "cell_type": "code",
   "execution_count": 10,
   "id": "419cc6e6",
   "metadata": {},
   "outputs": [
    {
     "name": "stdout",
     "output_type": "stream",
     "text": [
      "Courses with Multiple Instructors:\n",
      "  mnemonic        term\n",
      "0   ds6011    fall2021\n",
      "1   ds6011  summer2021\n",
      "2   ds6013    fall2021 \n",
      "\n"
     ]
    }
   ],
   "source": [
    "# Define and execute the query\n",
    "myquery = '''\n",
    "WITH InstructorCount AS (\n",
    "    SELECT course_id, term, COUNT(DISTINCT instructor_id) AS instructor_count\n",
    "    FROM Course_Assignment\n",
    "    GROUP BY course_id, term\n",
    ")\n",
    "SELECT c.mnemonic, ca.term\n",
    "FROM InstructorCount ic\n",
    "JOIN Course_Assignment ca ON ic.course_id = ca.course_id AND ic.term = ca.term\n",
    "JOIN Courses c ON ca.course_id = c.course_id\n",
    "WHERE ic.instructor_count > 1\n",
    "GROUP BY c.mnemonic, ca.term\n",
    "'''\n",
    "\n",
    "# Fetch and print results\n",
    "courses_multiple_instructors = pd.read_sql_query(myquery, conn)\n",
    "print(\"Courses with Multiple Instructors:\")\n",
    "print(courses_multiple_instructors, \"\\n\")\n"
   ]
  },
  {
   "cell_type": "code",
   "execution_count": 11,
   "id": "e5915271",
   "metadata": {},
   "outputs": [
    {
     "name": "stdout",
     "output_type": "stream",
     "text": [
      "Details for Courses with Multiple Instructors:\n",
      "         term mnemonic   instructor_name\n",
      "0    fall2021   ds6011  Abbas Kazemipour\n",
      "1    fall2021   ds6011    Cait Dreisbach\n",
      "2    fall2021   ds6011      Eric Tassone\n",
      "3    fall2021   ds6011     Jeremy Bolton\n",
      "4    fall2021   ds6011           Lei Xie\n",
      "5    fall2021   ds6011      Peter Gedeck\n",
      "6    fall2021   ds6013      Raf Alvarado\n",
      "7    fall2021   ds6013      Teague Henry\n",
      "8  summer2021   ds6011      Raf Alvarado\n",
      "9  summer2021   ds6011      Teague Henry \n",
      "\n"
     ]
    }
   ],
   "source": [
    "\n",
    "myquery = '''\n",
    "WITH InstructorCount AS (\n",
    "    SELECT course_id, term, COUNT(DISTINCT instructor_id) AS instructor_count\n",
    "    FROM Course_Assignment\n",
    "    GROUP BY course_id, term\n",
    ")\n",
    "SELECT ca.term, c.mnemonic, i.instructor_name\n",
    "FROM InstructorCount ic\n",
    "JOIN Course_Assignment ca ON ic.course_id = ca.course_id AND ic.term = ca.term\n",
    "JOIN Courses c ON ca.course_id = c.course_id\n",
    "JOIN Instructor i ON ca.instructor_id = i.instructor_id\n",
    "WHERE ic.instructor_count > 1\n",
    "ORDER BY ca.term, c.mnemonic, i.instructor_name\n",
    "'''\n",
    "\n",
    "# Fetch and print results\n",
    "courses_multiple_instructors_details = pd.read_sql_query(myquery, conn)\n",
    "print(\"Details for Courses with Multiple Instructors:\")\n",
    "print(courses_multiple_instructors_details, \"\\n\")"
   ]
  },
  {
   "cell_type": "code",
   "execution_count": null,
   "id": "f2f8df77",
   "metadata": {},
   "outputs": [],
   "source": []
  }
 ],
 "metadata": {
  "kernelspec": {
   "display_name": "Python 3 (ipykernel)",
   "language": "python",
   "name": "python3"
  },
  "language_info": {
   "codemirror_mode": {
    "name": "ipython",
    "version": 3
   },
   "file_extension": ".py",
   "mimetype": "text/x-python",
   "name": "python",
   "nbconvert_exporter": "python",
   "pygments_lexer": "ipython3",
   "version": "3.9.7"
  }
 },
 "nbformat": 4,
 "nbformat_minor": 5
}
